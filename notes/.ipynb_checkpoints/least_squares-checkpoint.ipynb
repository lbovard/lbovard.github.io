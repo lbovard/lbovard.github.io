{
 "cells": [
  {
   "cell_type": "markdown",
   "metadata": {},
   "source": [
    "# Data analysis recipes: Fitting a model to data\n",
    "\n",
    "This is based on the paper https://arxiv.org/abs/1008.4686. \n",
    "\n",
    "\n",
    "The goal is to fit a set of $N$ data points, $(x_{i},y_{i})$ with known Gaussian uncertainties $\\sigma_{yi}$ in the $y$-direction and perfect knowledge in the $x$-direction, i.e. $\\sigma_{xi}=0$. We want to fit the data with a linear function of the form\n",
    "\n",
    "$$f(x) = mx + b,$$\n",
    "\n",
    "where $m,b$ are co-efficients to be determined. Naturally, the question to ask is how do we measure how good a fit is? The standard method is to minimise the distance between the points and the function, weighted by the respective standard deviation. Mathematically this is written as\n",
    "\n",
    "$$\\chi^{2} = \\sum_{i=1}^{N}\\left(\\frac{y_{i} - f(x_{i})}{\\sigma_{yi}}\\right)^{2},$$\n",
    "\n",
    "where we want to minimise this function. This means taking the following derivatives \n",
    "\n",
    "$$\\frac{\\partial \\chi^{2}}{\\partial m} = \\frac{\\partial \\chi^{2}}{\\partial b}=0.$$\n",
    "\n",
    "Let us now define some matrices\n",
    "\n",
    "$$\\mathbf{Y}= \\left[\\begin{array}{c}y_{1} \\\\ y_{2} \\\\ \\ldots \\\\ y_{N} \\end{array}\\right]$$\n",
    "\n",
    "which is simply the $x$-values and is of the form $n\\times 1$. Next define \n",
    "\n",
    "$$ \\mathbf{A} = \\left[\\begin{array}{cc}1 & x_{1}  \\\\ 1 & x_{2} \\\\ \\ldots \\\\ 1 & x_{N} \\end{array}\\right]$$\n",
    "\n",
    "which is a list of the $x$-values and is of the form $n\\times 2$. Finally define \n",
    "\n",
    "$$ \\mathbf{C} = \n",
    "\\left[\\begin{array}{cccc}\n",
    "\\sigma_{y1}^{2} & 0 & \\ldots & 0\\\\\n",
    "0 & \\sigma_{y2}^{2} &  \\ldots & 0\\\\\n",
    " &  & \\ldots & \\\\\n",
    "0 & 0 & 0 &\\sigma_{yN}^{2}\n",
    "\\end{array}\\right],$$\n",
    "\n",
    "which is the covariance matrix and has the form $n\\times n$. Finally, we define\n",
    "\n",
    "$$\\mathbf{X}= \\left[\\begin{array}{c}b \\\\ m\\end{array}\\right],$$\n",
    "\n",
    "Using these definitions we can rewrite $\\chi^{2}$ as\n",
    "\n",
    "$$\\chi^{2} = [\\mathbf{Y}-\\mathbf{A}\\mathbf{X}]^{T} \\mathbf{C}^{-1} [\\mathbf{Y}-\\mathbf{A}\\mathbf{X}],$$\n",
    "\n",
    "which after minimising yields\n",
    "\n",
    "$$\\mathbf{X} = [\\mathbf{A}^{T}\\mathbf{C}^{-1}\\mathbf{A}]^{-1}[\\mathbf{A}^{T}\\mathbf{C}^{-1}\\mathbf{Y}].$$\n",
    "\n",
    "Let us now solve system for some data."
   ]
  },
  {
   "cell_type": "markdown",
   "metadata": {},
   "source": [
    "To do this, we consider the first dataset given in the paper, but for the first exercise skip the first 4 data points. "
   ]
  },
  {
   "cell_type": "code",
   "execution_count": 46,
   "metadata": {},
   "outputs": [
    {
     "name": "stdout",
     "output_type": "stream",
     "text": [
      "There are 16 data points\n"
     ]
    }
   ],
   "source": [
    "import numpy as np\n",
    "import matplotlib.pyplot as plt\n",
    "\n",
    "d=np.loadtxt(\"hogg2010.txt\",skiprows=5) #skip five rows since 1st is header\n",
    "N=d.shape[0]\n",
    "print \"There are {} data points\".format(N)\n",
    "y=d[:,2] #load the y data\n",
    "x=d[:,1] #load the x data\n",
    "cy=d[:,3] #load the sigma_y data"
   ]
  },
  {
   "cell_type": "markdown",
   "metadata": {},
   "source": [
    "Let us first plot the data to get a feel for what it looks like."
   ]
  },
  {
   "cell_type": "code",
   "execution_count": 37,
   "metadata": {},
   "outputs": [
    {
     "data": {
      "text/plain": [
       "(0, 700)"
      ]
     },
     "execution_count": 37,
     "metadata": {},
     "output_type": "execute_result"
    },
    {
     "data": {
      "image/png": "[encoded data removed]",
      "text/plain": [
       "<matplotlib.figure.Figure at 0x7fb3b925fd10>"
      ]
     },
     "metadata": {},
     "output_type": "display_data"
    }
   ],
   "source": [
    "fig,ax = plt.subplots()\n",
    "ax.errorbar(x,y,yerr=cy,fmt='o',capthick=1,capsize=2)\n",
    "\n",
    "ax.set_xlim(0,300)\n",
    "ax.set_ylim(0,700)"
   ]
  },
  {
   "cell_type": "markdown",
   "metadata": {},
   "source": [
    "Now we want to find the curve that best fits these values. To do this we must define the above matrices."
   ]
  },
  {
   "cell_type": "code",
   "execution_count": 47,
   "metadata": {},
   "outputs": [],
   "source": [
    "#create Y, this is a nx1 matrix\n",
    "Y=y\n",
    "#create A, this is a nx2 matrix\n",
    "A=np.ones((N,2))\n",
    "A[:,1]=x\n",
    "#create C, this is a nxn matrix\n",
    "C=np.diag(cy)\n",
    "Cinv=np.diag(1./cy)\n"
   ]
  },
  {
   "cell_type": "markdown",
   "metadata": {},
   "source": [
    "Now that we have created the matrices, we can form their product\n",
    "\n",
    "$$\\mathbf{X} = [\\mathbf{A}^{T}\\mathbf{C}^{-1}\\mathbf{A}]^{-1}[\\mathbf{A}^{T}\\mathbf{C}^{-1}\\mathbf{Y}].$$"
   ]
  },
  {
   "cell_type": "code",
   "execution_count": 78,
   "metadata": {},
   "outputs": [
    {
     "name": "stdout",
     "output_type": "stream",
     "text": [
      "[33.45048483  2.221363  ]\n"
     ]
    }
   ],
   "source": [
    "PARTA=np.dot(A.transpose(),np.dot(Cinv,A))\n",
    "INVPARTA=np.linalg.inv(PARTA)\n",
    "PARTB=np.dot(np.dot(A.transpose(),Cinv),Y)\n",
    "\n",
    "#print INVPARTA\n",
    "print np.dot(INVPARTA,PARTB)"
   ]
  },
  {
   "cell_type": "code",
   "execution_count": 84,
   "metadata": {},
   "outputs": [
    {
     "name": "stdout",
     "output_type": "stream",
     "text": [
      "[ 2.23992083 34.04772776]\n",
      "0.13447664393184905\n",
      "22.76556337307023\n"
     ]
    }
   ],
   "source": [
    "fits,covMatrix=np.polyfit(x,y,deg=1,w=1./cy,cov=True)\n",
    "print fits\n",
    "print np.sqrt(covMatrix[0,0])\n",
    "print np.sqrt(covMatrix[1,1])"
   ]
  }
 ],
 "metadata": {
  "kernelspec": {
   "display_name": "Python 2",
   "language": "python",
   "name": "python2"
  },
  "language_info": {
   "codemirror_mode": {
    "name": "ipython",
    "version": 2
   },
   "file_extension": ".py",
   "mimetype": "text/x-python",
   "name": "python",
   "nbconvert_exporter": "python",
   "pygments_lexer": "ipython2",
   "version": "2.7.14"
  }
 },
 "nbformat": 4,
 "nbformat_minor": 2
}
