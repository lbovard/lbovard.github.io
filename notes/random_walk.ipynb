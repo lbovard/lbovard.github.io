{
 "cells": [
  {
   "cell_type": "markdown",
   "metadata": {},
   "source": [
    "# Random walk\n",
    "\n",
    "Let us consider the following. A particle is at the point $x=0$ and can move in either direction along the x-axis. At every time step $t$, it can either jump to the point $x=-1$ with probability $1/2$ or to the point $x=1$ with probability $1/2$. At the points $a=-5$ and $b=7$ there is a giant nucleus which absorbs the particle. The question we first ask is what is the probability the particle is absorbed at $a$? At $b$? \n",
    "\n",
    "We can write a simple program that simulates one realisation of this little model."
   ]
  },
  {
   "cell_type": "code",
   "execution_count": 10,
   "metadata": {},
   "outputs": [
    {
     "name": "stdout",
     "output_type": "stream",
     "text": [
      "The particle was absorbed at -5\n"
     ]
    }
   ],
   "source": [
    "import numpy as np\n",
    "\n",
    "a,b=-5,7\n",
    "s=0\n",
    "while(s>a and s<b):\n",
    "    step=np.random.uniform(0,1)\n",
    "    if(step<0.5):\n",
    "        s-=1\n",
    "    else:\n",
    "        s+=1\n",
    "print \"The particle was absorbed at {}\".format(s)"
   ]
  },
  {
   "cell_type": "markdown",
   "metadata": {},
   "source": [
    "this is just a single realisation and we would like to know some robust statistics. Thus let us write a function which will return $0$ if it reaches $a$ and $1$ if it reaches $b$."
   ]
  },
  {
   "cell_type": "code",
   "execution_count": 13,
   "metadata": {},
   "outputs": [
    {
     "name": "stdout",
     "output_type": "stream",
     "text": [
      "0\n"
     ]
    }
   ],
   "source": [
    "def realisation(a,b):\n",
    "    s=0\n",
    "    while(s>a and s<b):\n",
    "        step=np.random.uniform(0,1)\n",
    "        if(step<0.5):\n",
    "            s-=1\n",
    "        else:\n",
    "            s+=1\n",
    "    if s==a:\n",
    "        return 0\n",
    "    else: \n",
    "        return 1\n",
    "    \n",
    "print realisation(a,b)"
   ]
  },
  {
   "cell_type": "markdown",
   "metadata": {},
   "source": [
    "Now let us run the simulation $N=1000$ times to see what happens."
   ]
  },
  {
   "cell_type": "code",
   "execution_count": 19,
   "metadata": {},
   "outputs": [
    {
     "name": "stdout",
     "output_type": "stream",
     "text": [
      "413\n"
     ]
    }
   ],
   "source": [
    "N=1000\n",
    "result=0\n",
    "for x in range(N):\n",
    "    result+=realisation(a,b)\n",
    "    \n",
    "print result"
   ]
  },
  {
   "cell_type": "code",
   "execution_count": null,
   "metadata": {},
   "outputs": [],
   "source": [
    "T"
   ]
  },
  {
   "cell_type": "markdown",
   "metadata": {},
   "source": [
    "# Gambler's Ruin\n",
    "\n"
   ]
  },
  {
   "cell_type": "code",
   "execution_count": 65,
   "metadata": {},
   "outputs": [
    {
     "name": "stdout",
     "output_type": "stream",
     "text": [
      "Loses       9.200%\n",
      "Theoretical 9.017%\n"
     ]
    }
   ],
   "source": [
    "def game(s):\n",
    "    while(s>0):\n",
    "        if(np.random.uniform(0,1)>0.5):\n",
    "            s+=2\n",
    "        else:\n",
    "            s-=1\n",
    "        if(s>50):\n",
    "            return 1\n",
    "    return 0\n",
    "\n",
    "N,wins,sv=1000,0,5\n",
    "for x in range(N):\n",
    "    wins+=game(sv)\n",
    "    \n",
    "print \"Loses       {:.3f}%\".format(100.*(N-wins)/(1.*N))\n",
    "print \"Theoretical {:.3f}%\".format( 100*((-1+np.sqrt(5))/2.0)**sv)"
   ]
  }
 ],
 "metadata": {
  "kernelspec": {
   "display_name": "Python 2",
   "language": "python",
   "name": "python2"
  },
  "language_info": {
   "codemirror_mode": {
    "name": "ipython",
    "version": 2
   },
   "file_extension": ".py",
   "mimetype": "text/x-python",
   "name": "python",
   "nbconvert_exporter": "python",
   "pygments_lexer": "ipython2",
   "version": "2.7.14"
  }
 },
 "nbformat": 4,
 "nbformat_minor": 2
}
